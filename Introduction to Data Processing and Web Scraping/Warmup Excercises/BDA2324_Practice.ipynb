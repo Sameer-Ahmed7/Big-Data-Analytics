{
  "nbformat": 4,
  "nbformat_minor": 0,
  "metadata": {
    "colab": {
      "provenance": []
    },
    "kernelspec": {
      "name": "python3",
      "display_name": "Python 3"
    },
    "language_info": {
      "name": "python"
    }
  },
  "cells": [
    {
      "cell_type": "markdown",
      "source": [
        "# Exercise 1\n",
        "\n",
        "## Given an input string in the format ’hh:mm:ss’, your task is to display on screen the corresponding number of seconds."
      ],
      "metadata": {
        "id": "SEvOPL9OjYIx"
      }
    },
    {
      "cell_type": "code",
      "execution_count": 28,
      "metadata": {
        "colab": {
          "base_uri": "https://localhost:8080/"
        },
        "id": "kP6s620tfYFN",
        "outputId": "71eb0c26-91a4-4aed-936b-1c06196f2bc5"
      },
      "outputs": [
        {
          "output_type": "stream",
          "name": "stdout",
          "text": [
            "Insert a time stamps in the fromat hh:mm:ss : 00:02:03\n",
            "Result is 123\n"
          ]
        }
      ],
      "source": [
        "timestamps = input('Insert a time stamps in the fromat hh:mm:ss : ')\n",
        "parts = timestamps.split(':')\n",
        "\n",
        "if len(parts)!=3:\n",
        "  print('The format of the provided input is wrong')\n",
        "\n",
        "else:\n",
        "  hrs = int(parts[0])\n",
        "  min = int(parts[1])\n",
        "  sec = int(parts[2])\n",
        "\n",
        "  overall_number_of_seconds = sec + (min*60)+(hrs*3600)\n",
        "\n",
        "  print(f'Result is {overall_number_of_seconds}')"
      ]
    },
    {
      "cell_type": "markdown",
      "source": [
        "# Exercise 2\n",
        "## Given an input string reporting a number of seconds, your task isto display on screen the corresponding timestamp in the format ’hh:mm:ss’."
      ],
      "metadata": {
        "id": "eSDqmZQanRhf"
      }
    },
    {
      "cell_type": "code",
      "source": [
        "total_seconds = int(input('Insert a total seconds : '))\n",
        "\n",
        "sec = total_seconds%60\n",
        "hrs = total_seconds//3600\n",
        "\n",
        "\n",
        "min = (-sec - hrs*3600 + total_seconds)//60\n",
        "\n",
        "if len(str(hrs))<2:\n",
        "  hrs = '0'+str(hrs)\n",
        "else:\n",
        "  hrs = str(hrs)\n",
        "\n",
        "if len(str(min))<2:\n",
        "  min = '0'+str(min)\n",
        "else:\n",
        "  min = str(min)\n",
        "\n",
        "if len(str(sec))<2:\n",
        "  sec = '0'+str(sec)\n",
        "else:\n",
        "  sec = str(sec)\n",
        "\n",
        "timestamps = hrs+':'+min+':'+sec\n",
        "\n",
        "\n",
        "print(f'Result is {timestamps}')\n"
      ],
      "metadata": {
        "colab": {
          "base_uri": "https://localhost:8080/"
        },
        "id": "1hIXLHQCjxAO",
        "outputId": "c924db4e-22a6-4fae-954b-bd3bd7e034fb"
      },
      "execution_count": 29,
      "outputs": [
        {
          "output_type": "stream",
          "name": "stdout",
          "text": [
            "Insert a total seconds : 123\n",
            "Result is 00:02:03\n"
          ]
        }
      ]
    },
    {
      "cell_type": "markdown",
      "source": [
        "# Exercise 3\n",
        "## Write a Python script to compare two string variables, s1 and s2. The script will count and display on screen the number of positions at which the corresponding characters in these two strings are the same."
      ],
      "metadata": {
        "id": "Vh-ES9JehgHS"
      }
    },
    {
      "cell_type": "code",
      "source": [
        "s1 = input('Enter the value of s1 : ').lower()\n",
        "s2 = input('Enter the value of s2 : ').lower()\n",
        "\n",
        "number_of_pos = 0\n",
        "min_value = min(len(s1),len(s2))\n",
        "\n",
        "\n",
        "for pos in range(min_value):\n",
        "  if s1[pos]==s2[pos]:\n",
        "    number_of_pos+=1\n",
        "\n",
        "print(f'Result is {number_of_pos}')"
      ],
      "metadata": {
        "colab": {
          "base_uri": "https://localhost:8080/"
        },
        "id": "hzeQgY3wg1Lz",
        "outputId": "081675e5-18d0-4f8f-a1b5-4590ff03d6e6"
      },
      "execution_count": 8,
      "outputs": [
        {
          "output_type": "stream",
          "name": "stdout",
          "text": [
            "Enter the value of s1 : house\n",
            "Enter the value of s2 : home\n",
            "Result is 2\n"
          ]
        }
      ]
    },
    {
      "cell_type": "markdown",
      "source": [
        "# Exercise 4\n",
        "## The following instructions generate a random number in the interval (1,10). Use it to write a Python script where the user is asked to guess the generated number. The user will be prompted to provide her guess in a loop until the right value is guessed or a certain condition is met (e.g., exiting the game with a guess of 0).\n",
        "### import random\n",
        "### generated_number = random.randint(1, 10)"
      ],
      "metadata": {
        "id": "iYYRguZ0nb68"
      }
    },
    {
      "cell_type": "code",
      "source": [
        "import random\n",
        "generated_number = random.randint(1, 10)\n",
        "\n",
        "\n",
        "while True:\n",
        "  guess = int(input('Guess the number , Else to exiting the game with a guess of 0 : '))\n",
        "\n",
        "  if guess == 0:\n",
        "    print('Game Successfully exit')\n",
        "    break\n",
        "  if guess == generated_number:\n",
        "    print('Correct')\n",
        "    break\n",
        "  else:\n",
        "    print('Wrong')\n"
      ],
      "metadata": {
        "colab": {
          "base_uri": "https://localhost:8080/"
        },
        "id": "9e_Hzwf6lsNV",
        "outputId": "3a5ad4de-a8bf-42cf-dd74-c0cf7e3c47b3"
      },
      "execution_count": 20,
      "outputs": [
        {
          "output_type": "stream",
          "name": "stdout",
          "text": [
            "Guess the number , Else to exiting the game with a guess of 0 : 3\n",
            "Wrong\n",
            "Guess the number , Else to exiting the game with a guess of 0 : 2\n",
            "Wrong\n",
            "Guess the number , Else to exiting the game with a guess of 0 : 1\n",
            "Wrong\n",
            "Guess the number , Else to exiting the game with a guess of 0 : 4\n",
            "Wrong\n",
            "Guess the number , Else to exiting the game with a guess of 0 : 5\n",
            "Wrong\n",
            "Guess the number , Else to exiting the game with a guess of 0 : 6\n",
            "Correct\n"
          ]
        }
      ]
    }
  ]
}